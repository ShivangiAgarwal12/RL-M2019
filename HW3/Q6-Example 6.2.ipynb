{
 "cells": [
  {
   "cell_type": "markdown",
   "metadata": {},
   "source": [
    "## Example 6.2, Generate state estimates and RMSE for Random Walk for TD learning and MC"
   ]
  },
  {
   "cell_type": "code",
   "execution_count": 1,
   "metadata": {},
   "outputs": [],
   "source": [
    "#%%libraries\n",
    "import numpy as np\n",
    "import matplotlib.pyplot as plt\n",
    "import pdb\n",
    "from sklearn.metrics import mean_squared_error\n",
    "from math import sqrt"
   ]
  },
  {
   "cell_type": "code",
   "execution_count": 2,
   "metadata": {},
   "outputs": [],
   "source": [
    "#%%model initialisations\n",
    "class Grid():\n",
    "    def __init__(self):\n",
    "        self.row = 7\n",
    "        self.state = np.empty((self.row))\n",
    "        self.state_value = {}\n",
    "        value = 1\n",
    "        for i in range(self.row):\n",
    "            self.state[i] = value\n",
    "            self.state_value[value] = 0\n",
    "            value+=1\n",
    "\n",
    "        self.state_value[1] = 0\n",
    "        self.state_value[7] = 0\n",
    "        for j in range(2,self.row):\n",
    "            self.state_value[j] = 0\n",
    "\n",
    "\n",
    "\n",
    "        #action space\n",
    "        self.action = {10: 'right', 11: 'left'}\n",
    "\n",
    "    def transition(self,action,state):\n",
    "        reward = 0\n",
    "        state1 = np.inf\n",
    "        if state in (self.state[1],self.state[2],self.state[3],self.state[4]):\n",
    "            if action == self.action[10]: #right\n",
    "                reward = 0\n",
    "                state1 = state + 1\n",
    "            if action == self.action[11]: #left\n",
    "                reward = 0\n",
    "                state1 = state - 1\n",
    "\n",
    "        if state == self.state[5]:\n",
    "            if action == self.action[10]:  #right\n",
    "                reward = 1\n",
    "                state1 = state + 1\n",
    "            if action == self.action[11]:  #left\n",
    "                reward = 0\n",
    "                state1 = state - 1\n",
    "        return state1, reward"
   ]
  },
  {
   "cell_type": "markdown",
   "metadata": {},
   "source": [
    "## Error for alpha = 0.15, consolidated graphs for all alphas are added in the report"
   ]
  },
  {
   "cell_type": "code",
   "execution_count": 3,
   "metadata": {},
   "outputs": [
    {
     "name": "stdout",
     "output_type": "stream",
     "text": [
      "Episode :  0 [4.0, 3.0, 2.0, 1.0] [0, 0, 0]\n",
      "Episode :  1 [4.0, 5.0, 4.0, 5.0, 4.0, 5.0, 6.0, 7.0] [0, 0, 0, 0, 0, 0, 1]\n",
      "Episode :  2 [4.0, 3.0, 2.0, 1.0] [0, 0, 0]\n",
      "Episode :  3 [4.0, 5.0, 6.0, 7.0] [0, 0, 1]\n",
      "Episode :  4 [4.0, 5.0, 4.0, 5.0, 6.0, 5.0, 4.0, 3.0, 4.0, 3.0, 4.0, 3.0, 4.0, 5.0, 6.0, 5.0, 6.0, 7.0] [0, 0, 0, 0, 0, 0, 0, 0, 0, 0, 0, 0, 0, 0, 0, 0, 1]\n",
      "Episode :  5 [4.0, 3.0, 2.0, 1.0] [0, 0, 0]\n",
      "Episode :  6 [4.0, 5.0, 4.0, 5.0, 4.0, 3.0, 4.0, 5.0, 6.0, 5.0, 6.0, 7.0] [0, 0, 0, 0, 0, 0, 0, 0, 0, 0, 1]\n",
      "Episode :  7 [4.0, 3.0, 4.0, 3.0, 4.0, 5.0, 6.0, 7.0] [0, 0, 0, 0, 0, 0, 1]\n",
      "Episode :  8 [4.0, 3.0, 4.0, 5.0, 4.0, 3.0, 2.0, 1.0] [0, 0, 0, 0, 0, 0, 0]\n",
      "Episode :  9 [4.0, 3.0, 2.0, 3.0, 4.0, 5.0, 4.0, 3.0, 4.0, 5.0, 6.0, 7.0] [0, 0, 0, 0, 0, 0, 0, 0, 0, 0, 1]\n",
      "Episode :  10 [4.0, 5.0, 6.0, 5.0, 6.0, 7.0] [0, 0, 0, 0, 1]\n",
      "Episode :  11 [4.0, 5.0, 4.0, 5.0, 6.0, 7.0] [0, 0, 0, 0, 1]\n",
      "Episode :  12 [4.0, 3.0, 2.0, 3.0, 2.0, 1.0] [0, 0, 0, 0, 0]\n",
      "Episode :  13 [4.0, 5.0, 6.0, 5.0, 4.0, 5.0, 4.0, 5.0, 6.0, 7.0] [0, 0, 0, 0, 0, 0, 0, 0, 1]\n",
      "Episode :  14 [4.0, 3.0, 4.0, 5.0, 4.0, 5.0, 6.0, 5.0, 4.0, 3.0, 4.0, 3.0, 2.0, 1.0] [0, 0, 0, 0, 0, 0, 0, 0, 0, 0, 0, 0, 0]\n",
      "Episode :  15 [4.0, 5.0, 6.0, 5.0, 4.0, 5.0, 6.0, 7.0] [0, 0, 0, 0, 0, 0, 1]\n",
      "Episode :  16 [4.0, 3.0, 2.0, 3.0, 2.0, 1.0] [0, 0, 0, 0, 0]\n",
      "Episode :  17 [4.0, 5.0, 6.0, 7.0] [0, 0, 1]\n",
      "Episode :  18 [4.0, 5.0, 4.0, 3.0, 4.0, 5.0, 4.0, 5.0, 4.0, 5.0, 4.0, 5.0, 6.0, 5.0, 4.0, 3.0, 2.0, 3.0, 4.0, 3.0, 2.0, 3.0, 4.0, 3.0, 2.0, 1.0] [0, 0, 0, 0, 0, 0, 0, 0, 0, 0, 0, 0, 0, 0, 0, 0, 0, 0, 0, 0, 0, 0, 0, 0, 0]\n",
      "Episode :  19 [4.0, 5.0, 6.0, 5.0, 4.0, 3.0, 4.0, 5.0, 4.0, 3.0, 2.0, 1.0] [0, 0, 0, 0, 0, 0, 0, 0, 0, 0, 0]\n",
      "Episode :  20 [4.0, 5.0, 6.0, 5.0, 6.0, 5.0, 6.0, 5.0, 4.0, 5.0, 4.0, 5.0, 4.0, 5.0, 4.0, 5.0, 4.0, 5.0, 6.0, 7.0] [0, 0, 0, 0, 0, 0, 0, 0, 0, 0, 0, 0, 0, 0, 0, 0, 0, 0, 1]\n",
      "Episode :  21 [4.0, 3.0, 4.0, 5.0, 6.0, 5.0, 6.0, 7.0] [0, 0, 0, 0, 0, 0, 1]\n",
      "Episode :  22 [4.0, 3.0, 2.0, 3.0, 2.0, 3.0, 2.0, 3.0, 4.0, 5.0, 4.0, 5.0, 6.0, 7.0] [0, 0, 0, 0, 0, 0, 0, 0, 0, 0, 0, 0, 1]\n",
      "Episode :  23 [4.0, 3.0, 4.0, 3.0, 2.0, 3.0, 2.0, 1.0] [0, 0, 0, 0, 0, 0, 0]\n",
      "Episode :  24 [4.0, 3.0, 4.0, 5.0, 6.0, 5.0, 6.0, 5.0, 6.0, 7.0] [0, 0, 0, 0, 0, 0, 0, 0, 1]\n",
      "Episode :  25 [4.0, 5.0, 6.0, 7.0] [0, 0, 1]\n",
      "Episode :  26 [4.0, 3.0, 4.0, 5.0, 4.0, 3.0, 2.0, 1.0] [0, 0, 0, 0, 0, 0, 0]\n",
      "Episode :  27 [4.0, 3.0, 4.0, 5.0, 6.0, 7.0] [0, 0, 0, 0, 1]\n",
      "Episode :  28 [4.0, 5.0, 6.0, 7.0] [0, 0, 1]\n",
      "Episode :  29 [4.0, 3.0, 4.0, 5.0, 6.0, 7.0] [0, 0, 0, 0, 1]\n",
      "Episode :  30 [4.0, 5.0, 6.0, 7.0] [0, 0, 1]\n",
      "Episode :  31 [4.0, 3.0, 4.0, 5.0, 4.0, 3.0, 4.0, 3.0, 4.0, 5.0, 6.0, 5.0, 6.0, 5.0, 4.0, 5.0, 6.0, 7.0] [0, 0, 0, 0, 0, 0, 0, 0, 0, 0, 0, 0, 0, 0, 0, 0, 1]\n",
      "Episode :  32 [4.0, 3.0, 4.0, 3.0, 4.0, 3.0, 4.0, 3.0, 2.0, 1.0] [0, 0, 0, 0, 0, 0, 0, 0, 0]\n",
      "Episode :  33 [4.0, 5.0, 4.0, 5.0, 6.0, 5.0, 6.0, 5.0, 4.0, 5.0, 6.0, 7.0] [0, 0, 0, 0, 0, 0, 0, 0, 0, 0, 1]\n",
      "Episode :  34 [4.0, 3.0, 2.0, 1.0] [0, 0, 0]\n",
      "Episode :  35 [4.0, 5.0, 6.0, 5.0, 4.0, 3.0, 4.0, 5.0, 6.0, 7.0] [0, 0, 0, 0, 0, 0, 0, 0, 1]\n",
      "Episode :  36 [4.0, 5.0, 4.0, 3.0, 4.0, 3.0, 2.0, 3.0, 2.0, 1.0] [0, 0, 0, 0, 0, 0, 0, 0, 0]\n",
      "Episode :  37 [4.0, 5.0, 6.0, 5.0, 4.0, 3.0, 2.0, 1.0] [0, 0, 0, 0, 0, 0, 0]\n",
      "Episode :  38 [4.0, 3.0, 4.0, 3.0, 4.0, 5.0, 6.0, 5.0, 4.0, 3.0, 2.0, 3.0, 4.0, 5.0, 4.0, 3.0, 2.0, 3.0, 2.0, 1.0] [0, 0, 0, 0, 0, 0, 0, 0, 0, 0, 0, 0, 0, 0, 0, 0, 0, 0, 0]\n",
      "Episode :  39 [4.0, 3.0, 2.0, 3.0, 2.0, 1.0] [0, 0, 0, 0, 0]\n",
      "Episode :  40 [4.0, 5.0, 4.0, 3.0, 2.0, 3.0, 4.0, 5.0, 4.0, 3.0, 4.0, 5.0, 6.0, 5.0, 6.0, 5.0, 6.0, 5.0, 6.0, 7.0] [0, 0, 0, 0, 0, 0, 0, 0, 0, 0, 0, 0, 0, 0, 0, 0, 0, 0, 1]\n",
      "Episode :  41 [4.0, 5.0, 6.0, 7.0] [0, 0, 1]\n",
      "Episode :  42 [4.0, 5.0, 4.0, 5.0, 6.0, 5.0, 4.0, 3.0, 4.0, 3.0, 4.0, 5.0, 6.0, 5.0, 4.0, 3.0, 2.0, 1.0] [0, 0, 0, 0, 0, 0, 0, 0, 0, 0, 0, 0, 0, 0, 0, 0, 0]\n",
      "Episode :  43 [4.0, 3.0, 2.0, 3.0, 4.0, 3.0, 4.0, 5.0, 4.0, 3.0, 2.0, 1.0] [0, 0, 0, 0, 0, 0, 0, 0, 0, 0, 0]\n",
      "Episode :  44 [4.0, 3.0, 2.0, 3.0, 4.0, 5.0, 6.0, 5.0, 6.0, 5.0, 6.0, 7.0] [0, 0, 0, 0, 0, 0, 0, 0, 0, 0, 1]\n",
      "Episode :  45 [4.0, 5.0, 4.0, 5.0, 4.0, 3.0, 4.0, 3.0, 2.0, 3.0, 4.0, 5.0, 4.0, 3.0, 2.0, 3.0, 4.0, 5.0, 4.0, 3.0, 2.0, 1.0] [0, 0, 0, 0, 0, 0, 0, 0, 0, 0, 0, 0, 0, 0, 0, 0, 0, 0, 0, 0, 0]\n",
      "Episode :  46 [4.0, 5.0, 4.0, 5.0, 4.0, 5.0, 6.0, 7.0] [0, 0, 0, 0, 0, 0, 1]\n",
      "Episode :  47 [4.0, 3.0, 2.0, 3.0, 2.0, 3.0, 4.0, 5.0, 4.0, 5.0, 6.0, 7.0] [0, 0, 0, 0, 0, 0, 0, 0, 0, 0, 1]\n",
      "Episode :  48 [4.0, 3.0, 2.0, 3.0, 4.0, 3.0, 4.0, 5.0, 6.0, 7.0] [0, 0, 0, 0, 0, 0, 0, 0, 1]\n",
      "Episode :  49 [4.0, 3.0, 4.0, 5.0, 4.0, 5.0, 4.0, 3.0, 2.0, 3.0, 2.0, 3.0, 2.0, 3.0, 2.0, 3.0, 4.0, 5.0, 4.0, 3.0, 4.0, 5.0, 6.0, 7.0] [0, 0, 0, 0, 0, 0, 0, 0, 0, 0, 0, 0, 0, 0, 0, 0, 0, 0, 0, 0, 0, 0, 1]\n",
      "Episode :  50 [4.0, 5.0, 4.0, 3.0, 4.0, 5.0, 6.0, 5.0, 6.0, 5.0, 6.0, 7.0] [0, 0, 0, 0, 0, 0, 0, 0, 0, 0, 1]\n",
      "Episode :  51 [4.0, 5.0, 4.0, 5.0, 4.0, 3.0, 2.0, 1.0] [0, 0, 0, 0, 0, 0, 0]\n",
      "Episode :  52 [4.0, 3.0, 2.0, 1.0] [0, 0, 0]\n",
      "Episode :  53 [4.0, 3.0, 2.0, 3.0, 4.0, 5.0, 6.0, 5.0, 6.0, 5.0, 6.0, 5.0, 4.0, 5.0, 4.0, 5.0, 4.0, 5.0, 4.0, 5.0, 6.0, 7.0] [0, 0, 0, 0, 0, 0, 0, 0, 0, 0, 0, 0, 0, 0, 0, 0, 0, 0, 0, 0, 1]\n",
      "Episode :  54 [4.0, 5.0, 4.0, 3.0, 2.0, 1.0] [0, 0, 0, 0, 0]\n",
      "Episode :  55 [4.0, 5.0, 6.0, 7.0] [0, 0, 1]\n",
      "Episode :  56 [4.0, 5.0, 4.0, 5.0, 4.0, 5.0, 4.0, 3.0, 4.0, 3.0, 2.0, 3.0, 2.0, 3.0, 2.0, 3.0, 2.0, 1.0] [0, 0, 0, 0, 0, 0, 0, 0, 0, 0, 0, 0, 0, 0, 0, 0, 0]\n",
      "Episode :  57 [4.0, 5.0, 4.0, 3.0, 2.0, 1.0] [0, 0, 0, 0, 0]\n",
      "Episode :  58 [4.0, 3.0, 2.0, 3.0, 2.0, 3.0, 2.0, 1.0] [0, 0, 0, 0, 0, 0, 0]\n",
      "Episode :  59 [4.0, 5.0, 4.0, 3.0, 2.0, 1.0] [0, 0, 0, 0, 0]\n",
      "Episode :  60 [4.0, 3.0, 4.0, 5.0, 4.0, 3.0, 4.0, 3.0, 2.0, 3.0, 2.0, 3.0, 4.0, 3.0, 2.0, 3.0, 2.0, 1.0] [0, 0, 0, 0, 0, 0, 0, 0, 0, 0, 0, 0, 0, 0, 0, 0, 0]\n",
      "Episode :  61 [4.0, 3.0, 4.0, 5.0, 4.0, 3.0, 2.0, 1.0] [0, 0, 0, 0, 0, 0, 0]\n",
      "Episode :  62 [4.0, 5.0, 4.0, 5.0, 6.0, 5.0, 6.0, 5.0, 4.0, 3.0, 2.0, 3.0, 4.0, 3.0, 4.0, 3.0, 4.0, 3.0, 4.0, 3.0, 4.0, 5.0, 6.0, 5.0, 6.0, 5.0, 4.0, 3.0, 2.0, 3.0, 2.0, 1.0] [0, 0, 0, 0, 0, 0, 0, 0, 0, 0, 0, 0, 0, 0, 0, 0, 0, 0, 0, 0, 0, 0, 0, 0, 0, 0, 0, 0, 0, 0, 0]\n",
      "Episode :  63 [4.0, 5.0, 6.0, 5.0, 6.0, 5.0, 4.0, 3.0, 2.0, 3.0, 2.0, 1.0] [0, 0, 0, 0, 0, 0, 0, 0, 0, 0, 0]\n",
      "Episode :  64 [4.0, 5.0, 4.0, 3.0, 2.0, 3.0, 4.0, 3.0, 4.0, 5.0, 6.0, 7.0] [0, 0, 0, 0, 0, 0, 0, 0, 0, 0, 1]\n",
      "Episode :  65 [4.0, 3.0, 2.0, 3.0, 2.0, 3.0, 2.0, 1.0] [0, 0, 0, 0, 0, 0, 0]\n",
      "Episode :  66 [4.0, 5.0, 6.0, 7.0] [0, 0, 1]\n",
      "Episode :  67 [4.0, 5.0, 4.0, 5.0, 6.0, 7.0] [0, 0, 0, 0, 1]\n",
      "Episode :  68 [4.0, 3.0, 4.0, 5.0, 6.0, 7.0] [0, 0, 0, 0, 1]\n",
      "Episode :  69 [4.0, 5.0, 4.0, 3.0, 2.0, 3.0, 4.0, 5.0, 4.0, 5.0, 6.0, 7.0] [0, 0, 0, 0, 0, 0, 0, 0, 0, 0, 1]\n",
      "Episode :  70 [4.0, 3.0, 4.0, 3.0, 2.0, 3.0, 4.0, 5.0, 6.0, 7.0] [0, 0, 0, 0, 0, 0, 0, 0, 1]\n",
      "Episode :  71 [4.0, 5.0, 4.0, 5.0, 4.0, 5.0, 4.0, 5.0, 6.0, 5.0, 4.0, 3.0, 2.0, 3.0, 2.0, 1.0] [0, 0, 0, 0, 0, 0, 0, 0, 0, 0, 0, 0, 0, 0, 0]\n",
      "Episode :  72 [4.0, 3.0, 4.0, 3.0, 4.0, 5.0, 6.0, 7.0] [0, 0, 0, 0, 0, 0, 1]\n",
      "Episode :  73 [4.0, 3.0, 4.0, 3.0, 4.0, 5.0, 6.0, 7.0] [0, 0, 0, 0, 0, 0, 1]\n",
      "Episode :  74 [4.0, 5.0, 6.0, 7.0] [0, 0, 1]\n",
      "Episode :  75 [4.0, 5.0, 4.0, 3.0, 2.0, 3.0, 4.0, 3.0, 4.0, 3.0, 4.0, 5.0, 4.0, 5.0, 6.0, 5.0, 4.0, 5.0, 4.0, 5.0, 4.0, 3.0, 2.0, 3.0, 4.0, 3.0, 2.0, 1.0] [0, 0, 0, 0, 0, 0, 0, 0, 0, 0, 0, 0, 0, 0, 0, 0, 0, 0, 0, 0, 0, 0, 0, 0, 0, 0, 0]\n",
      "Episode :  76 [4.0, 3.0, 2.0, 3.0, 4.0, 3.0, 4.0, 3.0, 2.0, 3.0, 2.0, 1.0] [0, 0, 0, 0, 0, 0, 0, 0, 0, 0, 0]\n",
      "Episode :  77 [4.0, 5.0, 6.0, 5.0, 6.0, 7.0] [0, 0, 0, 0, 1]\n",
      "Episode :  78 [4.0, 5.0, 4.0, 3.0, 4.0, 3.0, 2.0, 3.0, 2.0, 3.0, 4.0, 3.0, 4.0, 5.0, 4.0, 5.0, 6.0, 5.0, 6.0, 5.0, 6.0, 5.0, 6.0, 5.0, 6.0, 5.0, 4.0, 5.0, 6.0, 7.0] [0, 0, 0, 0, 0, 0, 0, 0, 0, 0, 0, 0, 0, 0, 0, 0, 0, 0, 0, 0, 0, 0, 0, 0, 0, 0, 0, 0, 1]\n",
      "Episode :  79 [4.0, 3.0, 4.0, 5.0, 4.0, 5.0, 4.0, 5.0, 4.0, 5.0, 6.0, 5.0, 6.0, 7.0] [0, 0, 0, 0, 0, 0, 0, 0, 0, 0, 0, 0, 1]\n",
      "Episode :  80 [4.0, 3.0, 4.0, 5.0, 4.0, 3.0, 4.0, 5.0, 4.0, 3.0, 4.0, 3.0, 2.0, 3.0, 2.0, 1.0] [0, 0, 0, 0, 0, 0, 0, 0, 0, 0, 0, 0, 0, 0, 0]\n",
      "Episode :  81 [4.0, 5.0, 6.0, 5.0, 4.0, 5.0, 4.0, 3.0, 2.0, 3.0, 4.0, 5.0, 6.0, 5.0, 4.0, 3.0, 4.0, 5.0, 6.0, 7.0] [0, 0, 0, 0, 0, 0, 0, 0, 0, 0, 0, 0, 0, 0, 0, 0, 0, 0, 1]\n",
      "Episode :  82 [4.0, 3.0, 4.0, 5.0, 6.0, 5.0, 6.0, 5.0, 6.0, 7.0] [0, 0, 0, 0, 0, 0, 0, 0, 1]\n",
      "Episode :  83 [4.0, 5.0, 4.0, 5.0, 6.0, 5.0, 6.0, 5.0, 4.0, 3.0, 2.0, 3.0, 4.0, 5.0, 4.0, 5.0, 6.0, 5.0, 4.0, 3.0, 4.0, 3.0, 2.0, 3.0, 4.0, 5.0, 4.0, 3.0, 4.0, 3.0, 2.0, 3.0, 2.0, 3.0, 2.0, 3.0, 2.0, 3.0, 4.0, 3.0, 4.0, 5.0, 6.0, 7.0] [0, 0, 0, 0, 0, 0, 0, 0, 0, 0, 0, 0, 0, 0, 0, 0, 0, 0, 0, 0, 0, 0, 0, 0, 0, 0, 0, 0, 0, 0, 0, 0, 0, 0, 0, 0, 0, 0, 0, 0, 0, 0, 1]\n",
      "Episode :  84 [4.0, 3.0, 2.0, 3.0, 2.0, 1.0] [0, 0, 0, 0, 0]\n",
      "Episode :  85 [4.0, 5.0, 4.0, 3.0, 2.0, 3.0, 4.0, 5.0, 6.0, 5.0, 4.0, 5.0, 4.0, 5.0, 4.0, 5.0, 4.0, 5.0, 6.0, 7.0] [0, 0, 0, 0, 0, 0, 0, 0, 0, 0, 0, 0, 0, 0, 0, 0, 0, 0, 1]\n",
      "Episode :  86 [4.0, 5.0, 6.0, 7.0] [0, 0, 1]\n",
      "Episode :  87 [4.0, 5.0, 4.0, 5.0, 6.0, 5.0, 4.0, 3.0, 2.0, 1.0] [0, 0, 0, 0, 0, 0, 0, 0, 0]\n",
      "Episode :  88 [4.0, 3.0, 2.0, 3.0, 2.0, 3.0, 2.0, 1.0] [0, 0, 0, 0, 0, 0, 0]\n",
      "Episode :  89 [4.0, 3.0, 2.0, 1.0] [0, 0, 0]\n",
      "Episode :  90 [4.0, 5.0, 4.0, 3.0, 2.0, 3.0, 4.0, 5.0, 6.0, 5.0, 4.0, 3.0, 2.0, 3.0, 2.0, 1.0] [0, 0, 0, 0, 0, 0, 0, 0, 0, 0, 0, 0, 0, 0, 0]\n",
      "Episode :  91 [4.0, 3.0, 2.0, 1.0] [0, 0, 0]\n",
      "Episode :  92 [4.0, 5.0, 4.0, 3.0, 2.0, 3.0, 2.0, 1.0] [0, 0, 0, 0, 0, 0, 0]\n",
      "Episode :  93 [4.0, 5.0, 6.0, 5.0, 6.0, 7.0] [0, 0, 0, 0, 1]\n",
      "Episode :  94 [4.0, 3.0, 2.0, 3.0, 2.0, 1.0] [0, 0, 0, 0, 0]\n",
      "Episode :  95 [4.0, 5.0, 4.0, 3.0, 2.0, 3.0, 2.0, 3.0, 4.0, 3.0, 4.0, 5.0, 4.0, 5.0, 6.0, 5.0, 6.0, 5.0, 6.0, 5.0, 6.0, 7.0] [0, 0, 0, 0, 0, 0, 0, 0, 0, 0, 0, 0, 0, 0, 0, 0, 0, 0, 0, 0, 1]\n",
      "Episode :  96 [4.0, 5.0, 6.0, 5.0, 4.0, 3.0, 4.0, 3.0, 4.0, 3.0, 2.0, 3.0, 4.0, 5.0, 6.0, 5.0, 6.0, 5.0, 4.0, 5.0, 4.0, 5.0, 6.0, 5.0, 6.0, 5.0, 4.0, 5.0, 4.0, 5.0, 4.0, 3.0, 4.0, 3.0, 2.0, 1.0] [0, 0, 0, 0, 0, 0, 0, 0, 0, 0, 0, 0, 0, 0, 0, 0, 0, 0, 0, 0, 0, 0, 0, 0, 0, 0, 0, 0, 0, 0, 0, 0, 0, 0, 0]\n",
      "Episode :  97 [4.0, 5.0, 6.0, 5.0, 4.0, 3.0, 4.0, 3.0, 4.0, 3.0, 2.0, 3.0, 2.0, 1.0] [0, 0, 0, 0, 0, 0, 0, 0, 0, 0, 0, 0, 0]\n",
      "Episode :  98 [4.0, 3.0, 4.0, 5.0, 6.0, 5.0, 6.0, 5.0, 4.0, 3.0, 4.0, 3.0, 2.0, 1.0] [0, 0, 0, 0, 0, 0, 0, 0, 0, 0, 0, 0, 0]\n",
      "Episode :  99 [4.0, 3.0, 4.0, 3.0, 2.0, 1.0] [0, 0, 0, 0, 0]\n"
     ]
    },
    {
     "data": {
      "text/plain": [
       "<matplotlib.legend.Legend at 0x24db9b0f4e0>"
      ]
     },
     "execution_count": 3,
     "metadata": {},
     "output_type": "execute_result"
    },
    {
     "data": {
      "image/png": "[encoded data removed]",
      "text/plain": [
       "<Figure size 432x288 with 1 Axes>"
      ]
     },
     "metadata": {
      "needs_background": "light"
     },
     "output_type": "display_data"
    }
   ],
   "source": [
    "#%%TD learning\n",
    "g = Grid()\n",
    "\n",
    "episodes = 100\n",
    "\n",
    "runs = 1\n",
    "\n",
    "gamma  = 1\n",
    "\n",
    "alpha = 0.15\n",
    "\n",
    "num_states = g.row\n",
    "\n",
    "\n",
    "loop = True\n",
    "\n",
    "total_errors = np.zeros(episodes)\n",
    "\n",
    "true_values = np.zeros(7)\n",
    "true_values[1:6] = np.arange(1, 6) / 6.0\n",
    "true_values[6] = 1\n",
    "\n",
    "for r in range(runs):\n",
    "\n",
    "    errors  = []\n",
    "\n",
    "\n",
    "\n",
    "    for k_epi in range(episodes):\n",
    "\n",
    "        #for states in each episode\n",
    "        state_episode = []\n",
    "\n",
    "        #for rewards in each episode\n",
    "        rew_ep = []\n",
    "\n",
    "        #always start with State C\n",
    "        new_state = g.state[3]\n",
    "        state_episode.append(new_state)\n",
    "        #pdb.set_trace()\n",
    "        loop = True\n",
    "\n",
    "        while loop == True:\n",
    "            act_n = np.arange(10,12)\n",
    "\n",
    "            #choosing a random action\n",
    "            a = g.action[np.random.choice(act_n)]\n",
    "\n",
    "            [state_forward, rew] = g.transition(a,state_episode[-1])\n",
    "\n",
    "            g.state_value[state_episode[-1]] = g.state_value[state_episode[-1]] + \\\n",
    "                alpha*(rew + g.state_value[state_forward] - g.state_value[state_episode[-1]])\n",
    "\n",
    "            state_episode.append(state_forward)\n",
    "            rew_ep.append(rew)\n",
    "\n",
    "            new_state = state_forward\n",
    "\n",
    "            if new_state == g.state[0] or new_state == g.state[6]:\n",
    "                loop = False\n",
    "                current_values = np.copy(list(g.state_value.values()))\n",
    "                errors.append(np.sqrt(np.sum(np.power(true_values - current_values , 2)) / 5.0))\n",
    "        if np.mod(k_epi,1) == 0:\n",
    "            print('Episode : ',k_epi,state_episode,rew_ep)\n",
    "            #print('Episode : ',k_epi)\n",
    "    total_errors += (errors)\n",
    "    \n",
    "total_errors/= runs\n",
    "plt.plot(total_errors, label = r'$\\alpha_{TD} = $' + str(alpha))\n",
    "plt.legend()"
   ]
  },
  {
   "cell_type": "code",
   "execution_count": 4,
   "metadata": {},
   "outputs": [
    {
     "data": {
      "text/plain": [
       "<matplotlib.legend.Legend at 0x24db9a9e3c8>"
      ]
     },
     "execution_count": 4,
     "metadata": {},
     "output_type": "execute_result"
    },
    {
     "data": {
      "image/png": "[encoded data removed]",
      "text/plain": [
       "<Figure size 432x288 with 1 Axes>"
      ]
     },
     "metadata": {
      "needs_background": "light"
     },
     "output_type": "display_data"
    }
   ],
   "source": [
    "#%%MC errors for RMSE\n",
    "g = Grid()\n",
    "\n",
    "episodes = 100\n",
    "\n",
    "runs = 1\n",
    "\n",
    "gamma  = 1\n",
    "\n",
    "alpha = 0.04\n",
    "\n",
    "num_states = g.row\n",
    "\n",
    "\n",
    "loop = True\n",
    "\n",
    "total_errors = np.zeros(episodes)\n",
    "\n",
    "true_values = np.zeros(7)\n",
    "true_values[1:6] = np.arange(1, 6) / 6.0\n",
    "true_values[6] = 1\n",
    "\n",
    "ret_states = {}\n",
    "\n",
    "for i in range(num_states):\n",
    "    ret_states[g.state[i]] = []\n",
    "\n",
    "for r in range(runs):\n",
    "\n",
    "    errors  = []\n",
    "    for k_epi in range(episodes):\n",
    "\n",
    "        #for states in each episode\n",
    "        state_episode = []\n",
    "\n",
    "        #for rewards in each episode\n",
    "        rew_ep = []\n",
    "\n",
    "        #always start with State C\n",
    "        new_state = g.state[3]\n",
    "        state_episode.append(new_state)\n",
    "        #pdb.set_trace()\n",
    "        loop = True\n",
    "        \n",
    "        #for tracking when does a episode ends\n",
    "        loop_exit = False\n",
    "\n",
    "        #start an episode\n",
    "        while loop == True:\n",
    "            act_n = np.arange(10,12)\n",
    "\n",
    "            #choosing a random action\n",
    "            a = g.action[np.random.choice(act_n)]\n",
    "\n",
    "            [state_forward, rew] = g.transition(a,state_episode[-1])\n",
    "\n",
    "            state_episode.append(state_forward)\n",
    "            rew_ep.append(rew)\n",
    "\n",
    "            new_state = state_forward\n",
    "\n",
    "            if new_state == g.state[0] or new_state == g.state[6]:\n",
    "                loop = False\n",
    "                loop_exit = True\n",
    "                \n",
    "            \n",
    "        if loop_exit == True:\n",
    "            G = 0\n",
    "            counter = 1\n",
    "            for j in range((len(rew_ep)-1),-1,-1):\n",
    "                G = gamma * G + rew_ep[j]\n",
    "                last_value = state_episode[j]\n",
    "                update_G = True\n",
    "                if update_G :\n",
    "                    ret_states[last_value].append(G)\n",
    "                    g.state_value[last_value] = g.state_value[last_value] +\\\n",
    "                    alpha*(np.mean(ret_states[last_value]) - g.state_value[last_value])\n",
    "            current_values = np.copy(list(g.state_value.values()))\n",
    "            errors.append(np.sqrt(np.sum(np.power(true_values - current_values , 2)) / 5.0))\n",
    "    \n",
    "    total_errors += (errors)\n",
    "\n",
    "total_errors/= runs\n",
    "plt.plot(total_errors, label = r'$\\alpha_{MC} = $' + str(alpha))\n",
    "plt.legend()"
   ]
  },
  {
   "cell_type": "markdown",
   "metadata": {},
   "source": [
    "## State estimates for episodes 100"
   ]
  },
  {
   "cell_type": "code",
   "execution_count": 6,
   "metadata": {},
   "outputs": [
    {
     "data": {
      "text/plain": [
       "<matplotlib.legend.Legend at 0x24dbacbf780>"
      ]
     },
     "execution_count": 6,
     "metadata": {},
     "output_type": "execute_result"
    },
    {
     "data": {
      "image/png": "[encoded data removed]",
      "text/plain": [
       "<Figure size 432x288 with 1 Axes>"
      ]
     },
     "metadata": {
      "needs_background": "light"
     },
     "output_type": "display_data"
    }
   ],
   "source": [
    "#%%\n",
    "true_values = [1/6 , 2/6, 3/6, 4/6, 5/6]\n",
    "current_values = []\n",
    "episodes = [0, 1, 10, 100]\n",
    "for j in range(2,7):\n",
    "    current_values.append(g.state_value[j])\n",
    "plt.plot(current_values, label=str(100) + ' episodes')\n",
    "plt.plot(true_values, label='true values')\n",
    "plt.xticks(np.arange(5),('A','B','C','D','E'))\n",
    "plt.xlabel('state')\n",
    "plt.ylabel('estimated value')\n",
    "plt.legend()"
   ]
  },
  {
   "cell_type": "code",
   "execution_count": null,
   "metadata": {},
   "outputs": [],
   "source": []
  }
 ],
 "metadata": {
  "kernelspec": {
   "display_name": "Python 3",
   "language": "python",
   "name": "python3"
  },
  "language_info": {
   "codemirror_mode": {
    "name": "ipython",
    "version": 3
   },
   "file_extension": ".py",
   "mimetype": "text/x-python",
   "name": "python",
   "nbconvert_exporter": "python",
   "pygments_lexer": "ipython3",
   "version": "3.6.8"
  }
 },
 "nbformat": 4,
 "nbformat_minor": 2
}
